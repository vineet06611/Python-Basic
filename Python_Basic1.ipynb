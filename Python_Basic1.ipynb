{
  "nbformat": 4,
  "nbformat_minor": 0,
  "metadata": {
    "colab": {
      "provenance": []
    },
    "kernelspec": {
      "name": "python3",
      "display_name": "Python 3"
    },
    "language_info": {
      "name": "python"
    }
  },
  "cells": [
    {
      "cell_type": "markdown",
      "source": [
        "1. What are data structures,and why are they important?\n",
        "\n",
        "-  Data structures are specialized formats for organizing, storing, and accessing collections of data.They provide efficient way to manage information based.\n",
        "\n",
        "   why it is important.\n",
        "   choosing the right data structure significantly impact the efficiency and performance of your program.\n",
        "   \n",
        "   - well-chosen data structure can:\n",
        "   - simplify data manipulation(adding,removing,modifying elements)\n",
        "   - optimize searching and storing opreations\n",
        "   - conserve memory usage.\n",
        "\n",
        "\n",
        "2. Explain the difference between mutable and immutable data types with examples?\n",
        "\n",
        " - Data types in Python are categorized into mutable and immutable data types. Mutable data types are those whose values can be changed, whereas immutable data types are ones in which the values can’t be changed. In this article, we will discuss the difference between mutable and immutable in Python.\n",
        "\n",
        " Python data type is categorized into two types:\n",
        "\n",
        " Mutable Data Type – A mutable data type is one whose values can be changed.\n",
        "Example: List, Dictionaries, and Set\n",
        "Immutable Data Type – An immutable data type is one in which the values can’t be changed or altered.\n",
        "Example: String and Tuples.\n",
        "\n",
        "3. What are main differences between lists and tuples in python?\n",
        "\n",
        " - In Python, lists and tuples both store collections of data, but differ in mutability, performance and memory usage. Lists are mutable, allowing modifications, and we can add anything in the list. while tuples are immutable. Choosing between them depends on whether you need to modify the data or prioritize performance and memory efficiency and we can not change anything in the tuples.\n",
        "\n",
        "\n",
        " 4. Describe how dictionaries store data?  \n",
        "\n",
        "  - Dictionary is a data structure that stores data as key:value pairs and keys are unique and immutable.Dictionaries are unordered but form python 3.7 version, dictionaries retain the order of insertion. This means that if you iterate over a dictionary, the items will be returnet in the order they were added.\n",
        "\n",
        "\n",
        "5. why might you use a set instead of a list in python?\n",
        "\n",
        "\n",
        "  -  Sets inherently store only unique elements. If you need a collection where duplicate values are automatically removed, a set is the ideal choice. Lists, conversely, allow and maintain duplicate elements.\n",
        "\n",
        "\n",
        " 6. what is a string in python , and how is it different from a list?\n",
        "\n",
        "  - In Python, a list is a collection of items that can be of any data type and can be modified (mutable). Lists are represented by square brackets and can contain multiple elements separated by commas. On the other hand, a string is a sequence of characters enclosed in single or double quotes. Strings are immutable, meaning their values cannot be changed once they are created. While both lists and strings can be accessed using indexing and slicing, lists provide more flexibility as they can be modified, appended, or extended, while strings cannot be altered after creation. '\n",
        "\n",
        "7. How do tuples ensure data integrity in python?\n",
        "\n",
        " - Tuples in Python ensure data integrity primarily through their immutability. This means that once a tuple is created, its elements cannot be changed, added, or removed. This characteristic provides several mechanisms for ensuring data integrity.\n",
        "\n",
        "8. What is a hash table,how does it relate to dictionaries in python?\n",
        "\n",
        " - A hash table is a data structure that stores key-value pairs, allowing for efficient retrieval of values based on their associated keys. It achieves this efficiency by using a hash function to map keys to numerical indices (or \"hash values\") within an underlying array or table. When a key-value pair is inserted, the hash function determines where in the table the value should be stored. When a value needs to be retrieved, the same hash function is applied to the key to quickly locate its corresponding value.\n",
        "\n",
        "\n",
        " 9. can lists contain different data types in python?\n",
        "\n",
        "  - Yes, lists in Python can contain elements of different data types. This characteristic makes Python lists highly versatile and flexible. and we can store any data type in lists. Ex- Integers,floats,booleans,strings and also we can store tuples and dictionaries in lists.\n",
        "\n",
        "\n",
        " 10. Explain why strings are immutable in python?\n",
        "\n",
        "  -    Strings are immutable in Python, meaning their content cannot be changed after they are created. Any operation that appears to modify a string actually results in the creation of a new string object with the desired changes, while the original string remains untouched in memory.\n",
        "\n",
        "11. What advantages do dictionaries offer over lists for certain tasks?\n",
        "\n",
        " - Dictionaries and lists are two fundamental data structures in Python, each with its unique strengths and weaknesses. Dictionaries excel in scenarios requiring fast lookups, key-value associations, and complex data mappings, while lists are ideal for ordered collections, sequential processing, and simple data storage.\n",
        "\n",
        "12. Describe a scenario where using a tuple would be preferable over a list?\n",
        "\n",
        " - Tuples are used when we need to store, retrieve, and use data often but don't need to change it. Data Representation- If you want to represent collections with each element having a specific meaning, tuples are a better choice. Immutable Data- As tuples are immutable, their contents can't be changed once created.\n",
        "\n",
        "13. How  do sets handle duplicate values in python?\n",
        "\n",
        " - Python sets fundamentally do not allow duplicate values. They are designed to store unique elements. When an attempt is made to add a duplicate value to a set, the set automatically ignores the addition, ensuring that only one instance of that value exists within the set.\n",
        "\n",
        "14. How does the \"in\" keyword work differently for lists and dictionaries?\n",
        "\n",
        " - The key of the dictionary is a unique value as well as the set. Itreate over only keys for key in shows the perticular keys,valuse and items and the other side. Python keywords list is 'in', which tests if a sequence contains a value. It returns True if a value is present; else, it returns False. The 'in' keyword also loops through the sequence.\n",
        "\n",
        "15. Can you modify the elements of a tuple? Explain why or why not.\n",
        "\n",
        " - No, you cannot directly modify the elements of a tuple in Python. Tuples are immutable, meaning their contents cannot be changed after creation. This immutability is a core characteristic of tuples.\n",
        "\n",
        "     Why tuples are immutable\n",
        "\n",
        "     Immutability allows for more efficient memory management, as the size and content of a tuple are fixed at creation.\n",
        "\n",
        "16. What is a nested dictionary, and give an example of its use case?\n",
        "\n",
        " - A nested dictionary in Python is a dictionary where the values are themselves dictionaries. This allows you to create hierarchical or multi-level data structures, where each dictionary can contain other dictionaries as its values.\n",
        "  Example given below."
      ],
      "metadata": {
        "id": "xi84cY1ZVLhE"
      }
    },
    {
      "cell_type": "code",
      "source": [
        "myfamily = {\"child1\" : { \"name\" : \"Emil\", \"year\" : 2004},\n",
        "  \"child2\" : {\"name\" : \"Tobias\",\"year\" : 2007 },\n",
        "  \"child3\" : { \"name\" : \"Linus\", \"year\" : 2011 }\n",
        "}"
      ],
      "metadata": {
        "id": "aQEypJ5vECQU"
      },
      "execution_count": null,
      "outputs": []
    },
    {
      "cell_type": "code",
      "source": [
        "myfamily"
      ],
      "metadata": {
        "colab": {
          "base_uri": "https://localhost:8080/"
        },
        "id": "Ymc4gTYlEcy5",
        "outputId": "3627f322-871e-40c2-acc2-f736852a6029"
      },
      "execution_count": null,
      "outputs": [
        {
          "output_type": "execute_result",
          "data": {
            "text/plain": [
              "{'child1': {'name': 'Emil', 'year': 2004},\n",
              " 'child2': {'name': 'Tobias', 'year': 2007},\n",
              " 'child3': {'name': 'Linus', 'year': 2011}}"
            ]
          },
          "metadata": {},
          "execution_count": 19
        }
      ]
    },
    {
      "cell_type": "markdown",
      "source": [
        "17. Describe the time complexity of accessing elements in a dictionary?\n",
        "\n",
        " - Python dictionaries provide a fast and efficient way to store and retrieve data using key value pair so understanding the time complexities of dictionary operations is very important for optimizing performance in our programs.The time complexity of retrieving a value by its key in a dictionary is O(1). This is because dictionaries use a hash table internally which allows constant time lookup.\n",
        "\n",
        "18. In what situations are lists preferred over  dictionaries?\n",
        "\n",
        " - For quick data look-ups, configurations, or caches, favor dictionaries. For ordered collections and sequence operations, such as maintaining a stack or queue, lists are more suitable.\n",
        "\n",
        "19. Why are dictionaries considered unordered, and how does that affect data retrieval?\n",
        "\n",
        " - Why dictionaries are unordered collection: Dictionary is a data structure which is a important value structure, optimized for fast storage and recovery based on key. In python, dictionaries are un-ordered because Python dictionaries are not intended to be in order, as simple as that.\n",
        "\n",
        "20. Explain the difference between a list and a dictionary in term of data retrieval?\n",
        "\n",
        " - A list is an ordered collection of items, whereas a dictionary is an unordered data collection in a key: value pair. Elements from the list can be accessed using the index, while the elements of the dictionary can be accessed using keys.     \n",
        "\n",
        "\n",
        "\n",
        "\n",
        "\n",
        "                                   **PRACTICAL QUESTIONS**"
      ],
      "metadata": {
        "id": "M45KlIHmEibx"
      }
    },
    {
      "cell_type": "markdown",
      "source": [
        "1. Write a code to create a string whit your name and print it."
      ],
      "metadata": {
        "id": "NqEHV_rScPJ-"
      }
    },
    {
      "cell_type": "code",
      "source": [
        "String1 = (\"Vineet Verma\")\n",
        "String1"
      ],
      "metadata": {
        "colab": {
          "base_uri": "https://localhost:8080/",
          "height": 36
        },
        "id": "KegEgnbOcwps",
        "outputId": "d07e2280-6fa1-4836-981a-87300b223e65"
      },
      "execution_count": null,
      "outputs": [
        {
          "output_type": "execute_result",
          "data": {
            "text/plain": [
              "'Vineet Verma'"
            ],
            "application/vnd.google.colaboratory.intrinsic+json": {
              "type": "string"
            }
          },
          "metadata": {},
          "execution_count": 22
        }
      ]
    },
    {
      "cell_type": "code",
      "source": [
        "type(String1)"
      ],
      "metadata": {
        "colab": {
          "base_uri": "https://localhost:8080/"
        },
        "id": "vZguyih7dIiT",
        "outputId": "e14f3003-6ccb-4e0d-b23c-d4e921ec0b2d"
      },
      "execution_count": null,
      "outputs": [
        {
          "output_type": "execute_result",
          "data": {
            "text/plain": [
              "str"
            ]
          },
          "metadata": {},
          "execution_count": 23
        }
      ]
    },
    {
      "cell_type": "markdown",
      "source": [
        "2. Write a code to find the length of the string \"Hello World\"."
      ],
      "metadata": {
        "id": "jWCpCDQ5dTbk"
      }
    },
    {
      "cell_type": "code",
      "source": [
        "str = \"Hello World\"\n",
        "str"
      ],
      "metadata": {
        "colab": {
          "base_uri": "https://localhost:8080/",
          "height": 36
        },
        "id": "Kwl9tHj2dwzD",
        "outputId": "6708e81e-bf00-40dc-e7d0-0e0de79396b8"
      },
      "execution_count": null,
      "outputs": [
        {
          "output_type": "execute_result",
          "data": {
            "text/plain": [
              "'Hello World'"
            ],
            "application/vnd.google.colaboratory.intrinsic+json": {
              "type": "string"
            }
          },
          "metadata": {},
          "execution_count": 25
        }
      ]
    },
    {
      "cell_type": "code",
      "source": [
        "len(str)"
      ],
      "metadata": {
        "colab": {
          "base_uri": "https://localhost:8080/"
        },
        "id": "Z0JKqln6d3Jq",
        "outputId": "40172a6f-483f-4179-cd40-98b2bf304ecd"
      },
      "execution_count": null,
      "outputs": [
        {
          "output_type": "execute_result",
          "data": {
            "text/plain": [
              "11"
            ]
          },
          "metadata": {},
          "execution_count": 26
        }
      ]
    },
    {
      "cell_type": "markdown",
      "source": [
        "3. Write a code to slice the first 3 characters from the string \"Python Programming\"."
      ],
      "metadata": {
        "id": "TxQqrVz8d8jp"
      }
    },
    {
      "cell_type": "code",
      "source": [
        "str = \"Python Programming\"\n",
        "str\n"
      ],
      "metadata": {
        "colab": {
          "base_uri": "https://localhost:8080/",
          "height": 36
        },
        "id": "1oMryF-Ud71p",
        "outputId": "c4db2850-22b3-4659-dab2-0ea57540bbda"
      },
      "execution_count": null,
      "outputs": [
        {
          "output_type": "execute_result",
          "data": {
            "text/plain": [
              "'Python Programming'"
            ],
            "application/vnd.google.colaboratory.intrinsic+json": {
              "type": "string"
            }
          },
          "metadata": {},
          "execution_count": 27
        }
      ]
    },
    {
      "cell_type": "code",
      "source": [
        "str[0:3]"
      ],
      "metadata": {
        "colab": {
          "base_uri": "https://localhost:8080/",
          "height": 36
        },
        "id": "H6eYIcnef-nG",
        "outputId": "cc6049f5-6c86-4dd2-ba3e-29e08830b740"
      },
      "execution_count": null,
      "outputs": [
        {
          "output_type": "execute_result",
          "data": {
            "text/plain": [
              "'Pyt'"
            ],
            "application/vnd.google.colaboratory.intrinsic+json": {
              "type": "string"
            }
          },
          "metadata": {},
          "execution_count": 28
        }
      ]
    },
    {
      "cell_type": "markdown",
      "source": [
        "4. Write a code to convert the string \"hello\" to uppercase."
      ],
      "metadata": {
        "id": "MwqBjdwZgD_P"
      }
    },
    {
      "cell_type": "code",
      "source": [
        "str = \"hello\"\n",
        "str"
      ],
      "metadata": {
        "colab": {
          "base_uri": "https://localhost:8080/",
          "height": 36
        },
        "id": "JbxlQZ34gDlA",
        "outputId": "3d332c01-191d-48f4-aad1-d4842fbe8c42"
      },
      "execution_count": null,
      "outputs": [
        {
          "output_type": "execute_result",
          "data": {
            "text/plain": [
              "'hello'"
            ],
            "application/vnd.google.colaboratory.intrinsic+json": {
              "type": "string"
            }
          },
          "metadata": {},
          "execution_count": 30
        }
      ]
    },
    {
      "cell_type": "code",
      "source": [
        "str.upper()"
      ],
      "metadata": {
        "colab": {
          "base_uri": "https://localhost:8080/",
          "height": 36
        },
        "id": "nUqYn13vgfg2",
        "outputId": "f9f527c1-9dda-4911-8a71-248102086a4e"
      },
      "execution_count": null,
      "outputs": [
        {
          "output_type": "execute_result",
          "data": {
            "text/plain": [
              "'HELLO'"
            ],
            "application/vnd.google.colaboratory.intrinsic+json": {
              "type": "string"
            }
          },
          "metadata": {},
          "execution_count": 31
        }
      ]
    },
    {
      "cell_type": "markdown",
      "source": [
        "5. write a code to replace the word \"apple\" with \"orange\" in the string \"I like apple\"."
      ],
      "metadata": {
        "id": "YTNAH7kVgkhD"
      }
    },
    {
      "cell_type": "code",
      "source": [
        "S = \"I like apple\"\n",
        "S"
      ],
      "metadata": {
        "colab": {
          "base_uri": "https://localhost:8080/",
          "height": 36
        },
        "id": "oQY2aeljhSCF",
        "outputId": "621c8e01-ed86-4e9c-da9e-9471f01bfc34"
      },
      "execution_count": null,
      "outputs": [
        {
          "output_type": "execute_result",
          "data": {
            "text/plain": [
              "'I like apple'"
            ],
            "application/vnd.google.colaboratory.intrinsic+json": {
              "type": "string"
            }
          },
          "metadata": {},
          "execution_count": 32
        }
      ]
    },
    {
      "cell_type": "code",
      "source": [
        "S.replace(\"apple\", \"orange\")"
      ],
      "metadata": {
        "colab": {
          "base_uri": "https://localhost:8080/",
          "height": 36
        },
        "id": "hhLR-kx0m7X4",
        "outputId": "c5b326c6-cfe6-46ae-ed66-9ccf996ad025"
      },
      "execution_count": null,
      "outputs": [
        {
          "output_type": "execute_result",
          "data": {
            "text/plain": [
              "'I like orange'"
            ],
            "application/vnd.google.colaboratory.intrinsic+json": {
              "type": "string"
            }
          },
          "metadata": {},
          "execution_count": 33
        }
      ]
    },
    {
      "cell_type": "markdown",
      "source": [
        "6. Write a code to create a list with numbers 1 to 5 and print it."
      ],
      "metadata": {
        "id": "5UBHi0Loo_PI"
      }
    },
    {
      "cell_type": "code",
      "source": [
        "my_list = [1,2,3,4,5]\n",
        "my_list"
      ],
      "metadata": {
        "colab": {
          "base_uri": "https://localhost:8080/"
        },
        "id": "zlDkL6n2xY2F",
        "outputId": "505b5ae6-1d56-4473-a9df-45fcc9db76bb"
      },
      "execution_count": null,
      "outputs": [
        {
          "output_type": "execute_result",
          "data": {
            "text/plain": [
              "[1, 2, 3, 4, 5]"
            ]
          },
          "metadata": {},
          "execution_count": 34
        }
      ]
    },
    {
      "cell_type": "code",
      "source": [
        "type(my_list)"
      ],
      "metadata": {
        "colab": {
          "base_uri": "https://localhost:8080/"
        },
        "id": "ACwjwL7rxgqC",
        "outputId": "6e770cf4-c2c5-452c-db1f-fe83bda9f476"
      },
      "execution_count": null,
      "outputs": [
        {
          "output_type": "execute_result",
          "data": {
            "text/plain": [
              "list"
            ]
          },
          "metadata": {},
          "execution_count": 35
        }
      ]
    },
    {
      "cell_type": "markdown",
      "source": [
        "7. Write a code to append the number 10 to the list."
      ],
      "metadata": {
        "id": "pgoVRqpNxlu3"
      }
    },
    {
      "cell_type": "code",
      "source": [
        "my_list = [1,2,3,4]\n",
        "my_list\n"
      ],
      "metadata": {
        "colab": {
          "base_uri": "https://localhost:8080/"
        },
        "id": "g-61ovLl12fl",
        "outputId": "6d4d3d1a-2845-4c11-b352-9a65b9feff66"
      },
      "execution_count": null,
      "outputs": [
        {
          "output_type": "execute_result",
          "data": {
            "text/plain": [
              "[1, 2, 3, 4]"
            ]
          },
          "metadata": {},
          "execution_count": 48
        }
      ]
    },
    {
      "cell_type": "code",
      "source": [
        "my_list.append(10)"
      ],
      "metadata": {
        "id": "Nik_zZLj12Ps"
      },
      "execution_count": null,
      "outputs": []
    },
    {
      "cell_type": "code",
      "source": [
        "my_list"
      ],
      "metadata": {
        "colab": {
          "base_uri": "https://localhost:8080/"
        },
        "id": "N0r5142n111H",
        "outputId": "f9851be5-0600-482f-96af-59645e936d81"
      },
      "execution_count": null,
      "outputs": [
        {
          "output_type": "execute_result",
          "data": {
            "text/plain": [
              "[1, 2, 3, 4, 10]"
            ]
          },
          "metadata": {},
          "execution_count": 50
        }
      ]
    },
    {
      "cell_type": "markdown",
      "source": [
        "8. Write a code to remove the number 3 from the list [1,2,3,4,5]."
      ],
      "metadata": {
        "id": "d6M9KE671Qqh"
      }
    },
    {
      "cell_type": "code",
      "source": [
        "number = [1,2,3,4,5]\n",
        "number"
      ],
      "metadata": {
        "colab": {
          "base_uri": "https://localhost:8080/"
        },
        "id": "KOSrHW2a3AHE",
        "outputId": "4c2eb491-d3a6-49b1-a8e7-e121294088fb"
      },
      "execution_count": null,
      "outputs": [
        {
          "output_type": "execute_result",
          "data": {
            "text/plain": [
              "[1, 2, 3, 4, 5]"
            ]
          },
          "metadata": {},
          "execution_count": 60
        }
      ]
    },
    {
      "cell_type": "code",
      "source": [
        "number.remove(3)"
      ],
      "metadata": {
        "id": "AK1WcduU3HaD"
      },
      "execution_count": null,
      "outputs": []
    },
    {
      "cell_type": "code",
      "source": [
        "number"
      ],
      "metadata": {
        "colab": {
          "base_uri": "https://localhost:8080/"
        },
        "id": "4_bcOQ5o3Kbg",
        "outputId": "7b79dde2-338d-42a7-d2db-474c528304f0"
      },
      "execution_count": null,
      "outputs": [
        {
          "output_type": "execute_result",
          "data": {
            "text/plain": [
              "[1, 2, 4, 5]"
            ]
          },
          "metadata": {},
          "execution_count": 62
        }
      ]
    },
    {
      "cell_type": "markdown",
      "source": [
        "9. Write a code to access the second element in the list ['a','b','c','d']."
      ],
      "metadata": {
        "id": "Dm43Dlmh3MWR"
      }
    },
    {
      "cell_type": "code",
      "source": [
        "alphabet = ['a','b','c','d']"
      ],
      "metadata": {
        "id": "RoseYd4a3rrv"
      },
      "execution_count": null,
      "outputs": []
    },
    {
      "cell_type": "code",
      "source": [
        "alphabet"
      ],
      "metadata": {
        "colab": {
          "base_uri": "https://localhost:8080/"
        },
        "id": "RCLofc5n4G2G",
        "outputId": "1b12aea1-638e-4df7-cf20-55e987fc2651"
      },
      "execution_count": null,
      "outputs": [
        {
          "output_type": "execute_result",
          "data": {
            "text/plain": [
              "['a', 'b', 'c', 'd']"
            ]
          },
          "metadata": {},
          "execution_count": 64
        }
      ]
    },
    {
      "cell_type": "code",
      "source": [
        "alphabet[1]"
      ],
      "metadata": {
        "colab": {
          "base_uri": "https://localhost:8080/",
          "height": 36
        },
        "id": "5I1W9DJi4JvG",
        "outputId": "41bdd05e-1b2f-49f3-ee0c-cdbcf81dad5b"
      },
      "execution_count": null,
      "outputs": [
        {
          "output_type": "execute_result",
          "data": {
            "text/plain": [
              "'b'"
            ],
            "application/vnd.google.colaboratory.intrinsic+json": {
              "type": "string"
            }
          },
          "metadata": {},
          "execution_count": 65
        }
      ]
    },
    {
      "cell_type": "markdown",
      "source": [
        "10. Write a code to reverse the list [10,20,30,40,50]."
      ],
      "metadata": {
        "id": "-Mfj6pU44ZSV"
      }
    },
    {
      "cell_type": "code",
      "source": [
        "number = [10,20,30,40,50]\n",
        "number"
      ],
      "metadata": {
        "colab": {
          "base_uri": "https://localhost:8080/"
        },
        "id": "TMy-GPwJ4n2i",
        "outputId": "0b1ecff2-d723-4ef5-abb7-10a42f5da069"
      },
      "execution_count": null,
      "outputs": [
        {
          "output_type": "execute_result",
          "data": {
            "text/plain": [
              "[10, 20, 30, 40, 50]"
            ]
          },
          "metadata": {},
          "execution_count": 66
        }
      ]
    },
    {
      "cell_type": "code",
      "source": [
        "number.reverse()"
      ],
      "metadata": {
        "id": "stuXXquS5qE5"
      },
      "execution_count": null,
      "outputs": []
    },
    {
      "cell_type": "code",
      "source": [
        "number"
      ],
      "metadata": {
        "id": "4ohumi5_5t27",
        "outputId": "67740aef-07b9-44b5-cc02-d94b93ec96bf",
        "colab": {
          "base_uri": "https://localhost:8080/"
        }
      },
      "execution_count": null,
      "outputs": [
        {
          "output_type": "execute_result",
          "data": {
            "text/plain": [
              "[50, 40, 30, 20, 10]"
            ]
          },
          "metadata": {},
          "execution_count": 71
        }
      ]
    },
    {
      "cell_type": "markdown",
      "source": [
        "11. Write a code to create a tuple with the elements 100,200,300 and print it."
      ],
      "metadata": {
        "id": "d-zrYDM9_9gP"
      }
    },
    {
      "cell_type": "code",
      "source": [
        "t = (100,200,300)\n",
        "t"
      ],
      "metadata": {
        "id": "AqW0wTmk5tr3",
        "colab": {
          "base_uri": "https://localhost:8080/"
        },
        "outputId": "9b6e51b8-fda7-42ab-f0c3-7f6f5c25a3dc"
      },
      "execution_count": 2,
      "outputs": [
        {
          "output_type": "execute_result",
          "data": {
            "text/plain": [
              "(100, 200, 300)"
            ]
          },
          "metadata": {},
          "execution_count": 2
        }
      ]
    },
    {
      "cell_type": "code",
      "source": [
        "type(t)"
      ],
      "metadata": {
        "colab": {
          "base_uri": "https://localhost:8080/"
        },
        "id": "VGGGkjHKAl4U",
        "outputId": "9f275251-3dfb-419b-9a8b-22ddc2769796"
      },
      "execution_count": 3,
      "outputs": [
        {
          "output_type": "execute_result",
          "data": {
            "text/plain": [
              "tuple"
            ]
          },
          "metadata": {},
          "execution_count": 3
        }
      ]
    },
    {
      "cell_type": "markdown",
      "source": [
        "12. write a code to access the second-to-last element of the tuple ('red','green','blue','yellow')."
      ],
      "metadata": {
        "id": "j3jfF7t1AsfD"
      }
    },
    {
      "cell_type": "code",
      "source": [
        "t = ('red','green','blue','yellow')\n",
        "t"
      ],
      "metadata": {
        "colab": {
          "base_uri": "https://localhost:8080/"
        },
        "id": "C7t8WDpYBDQS",
        "outputId": "830b37ab-0248-4ba7-8d2b-fbf1b2536645"
      },
      "execution_count": 5,
      "outputs": [
        {
          "output_type": "execute_result",
          "data": {
            "text/plain": [
              "('red', 'green', 'blue', 'yellow')"
            ]
          },
          "metadata": {},
          "execution_count": 5
        }
      ]
    },
    {
      "cell_type": "code",
      "source": [
        "t[1:4]"
      ],
      "metadata": {
        "colab": {
          "base_uri": "https://localhost:8080/"
        },
        "id": "sSn83gt7ETdS",
        "outputId": "b8c38f94-294a-4ab1-b33c-64cf79b491d1"
      },
      "execution_count": 6,
      "outputs": [
        {
          "output_type": "execute_result",
          "data": {
            "text/plain": [
              "('green', 'blue', 'yellow')"
            ]
          },
          "metadata": {},
          "execution_count": 6
        }
      ]
    },
    {
      "cell_type": "markdown",
      "source": [
        "13.Write a code to find the minimum number in the tuple(10,20,5,15).\n"
      ],
      "metadata": {
        "id": "NZ0udyv0Mh5E"
      }
    },
    {
      "cell_type": "code",
      "source": [
        "t1 = (10,20,5,15)\n",
        "t1"
      ],
      "metadata": {
        "colab": {
          "base_uri": "https://localhost:8080/"
        },
        "id": "dJtGqEeNNEa9",
        "outputId": "cffaa387-8be8-41e1-c850-87bcafa623e1"
      },
      "execution_count": 9,
      "outputs": [
        {
          "output_type": "execute_result",
          "data": {
            "text/plain": [
              "(10, 20, 5, 15)"
            ]
          },
          "metadata": {},
          "execution_count": 9
        }
      ]
    },
    {
      "cell_type": "code",
      "source": [
        "min(t1)"
      ],
      "metadata": {
        "colab": {
          "base_uri": "https://localhost:8080/"
        },
        "id": "KteKcv3XNCyG",
        "outputId": "912fdfdd-73da-42e2-bc75-517c04731d50"
      },
      "execution_count": 10,
      "outputs": [
        {
          "output_type": "execute_result",
          "data": {
            "text/plain": [
              "5"
            ]
          },
          "metadata": {},
          "execution_count": 10
        }
      ]
    },
    {
      "cell_type": "markdown",
      "source": [
        "14.Write a code to find the index of the element \"cat\" in the tuple ('dog','cat','rabbit')."
      ],
      "metadata": {
        "id": "0lXOax4KOOD5"
      }
    },
    {
      "cell_type": "code",
      "source": [
        "tuple1 = ('dog','cat','rabbit')\n",
        "tuple1"
      ],
      "metadata": {
        "colab": {
          "base_uri": "https://localhost:8080/"
        },
        "id": "a5nXuNF0PEvm",
        "outputId": "81f66601-ef21-4175-a944-313b3912550b"
      },
      "execution_count": 11,
      "outputs": [
        {
          "output_type": "execute_result",
          "data": {
            "text/plain": [
              "('dog', 'cat', 'rabbit')"
            ]
          },
          "metadata": {},
          "execution_count": 11
        }
      ]
    },
    {
      "cell_type": "code",
      "source": [
        "tuple1.index(\"cat\")"
      ],
      "metadata": {
        "colab": {
          "base_uri": "https://localhost:8080/"
        },
        "id": "1dSrp35ZPbjb",
        "outputId": "c926389f-c1da-44cf-ffda-d15cc7733c16"
      },
      "execution_count": 12,
      "outputs": [
        {
          "output_type": "execute_result",
          "data": {
            "text/plain": [
              "1"
            ]
          },
          "metadata": {},
          "execution_count": 12
        }
      ]
    },
    {
      "cell_type": "markdown",
      "source": [
        "15. Write a code to create a tuple containing three different fruits and check if \"kiwi\" is in it.\n"
      ],
      "metadata": {
        "id": "9HxUhTFWPiy_"
      }
    },
    {
      "cell_type": "code",
      "source": [
        "tuple2 = (\"mango\",\"banana\",\"kiwi\")\n",
        "tuple2"
      ],
      "metadata": {
        "colab": {
          "base_uri": "https://localhost:8080/"
        },
        "id": "IeNxyAjIPidf",
        "outputId": "d3081d7f-5b84-4ce6-fef6-1b16eb2e9298"
      },
      "execution_count": 13,
      "outputs": [
        {
          "output_type": "execute_result",
          "data": {
            "text/plain": [
              "('mango', 'banana', 'kiwi')"
            ]
          },
          "metadata": {},
          "execution_count": 13
        }
      ]
    },
    {
      "cell_type": "markdown",
      "source": [
        "16. Write a code to create a set with the elements 'a','b','c' and print it."
      ],
      "metadata": {
        "id": "O1TBsXjhRQEm"
      }
    },
    {
      "cell_type": "code",
      "source": [
        "set1 = {'a','b','c'}\n",
        "set1"
      ],
      "metadata": {
        "colab": {
          "base_uri": "https://localhost:8080/"
        },
        "id": "HUvsle6mRyG-",
        "outputId": "76ce0724-9814-4301-9a8c-9bd5cc621b6a"
      },
      "execution_count": 14,
      "outputs": [
        {
          "output_type": "execute_result",
          "data": {
            "text/plain": [
              "{'a', 'b', 'c'}"
            ]
          },
          "metadata": {},
          "execution_count": 14
        }
      ]
    },
    {
      "cell_type": "code",
      "source": [
        "type(set1)"
      ],
      "metadata": {
        "colab": {
          "base_uri": "https://localhost:8080/"
        },
        "id": "NhpRdllFR7v4",
        "outputId": "24e9befb-6000-43f5-f1ab-9108962da6dd"
      },
      "execution_count": 15,
      "outputs": [
        {
          "output_type": "execute_result",
          "data": {
            "text/plain": [
              "set"
            ]
          },
          "metadata": {},
          "execution_count": 15
        }
      ]
    },
    {
      "cell_type": "markdown",
      "source": [
        "17. Write a code to clear all elements from the set{1,2,3,4,5}.\n"
      ],
      "metadata": {
        "id": "FWvvSpflSBOi"
      }
    },
    {
      "cell_type": "code",
      "source": [
        "set1 = {1,2,3,4,5}\n",
        "set1"
      ],
      "metadata": {
        "colab": {
          "base_uri": "https://localhost:8080/"
        },
        "id": "M0ZHJXN_SdCw",
        "outputId": "6eb8554b-cbad-4228-b22c-d099bfc8ee96"
      },
      "execution_count": 16,
      "outputs": [
        {
          "output_type": "execute_result",
          "data": {
            "text/plain": [
              "{1, 2, 3, 4, 5}"
            ]
          },
          "metadata": {},
          "execution_count": 16
        }
      ]
    },
    {
      "cell_type": "code",
      "source": [
        "set1.clear()\n",
        "set1"
      ],
      "metadata": {
        "colab": {
          "base_uri": "https://localhost:8080/"
        },
        "id": "WvJwD7iqSnU4",
        "outputId": "f5cb0e3f-b4e2-45c6-c68f-324986f6db1a"
      },
      "execution_count": 19,
      "outputs": [
        {
          "output_type": "execute_result",
          "data": {
            "text/plain": [
              "set()"
            ]
          },
          "metadata": {},
          "execution_count": 19
        }
      ]
    },
    {
      "cell_type": "markdown",
      "source": [
        "18. Write a code to remove the element 4 from the set {1,2,3,4}.\n"
      ],
      "metadata": {
        "id": "LAE6VG3UUlsH"
      }
    },
    {
      "cell_type": "code",
      "source": [
        "set1 = {1,2,3,4}\n",
        "set1"
      ],
      "metadata": {
        "colab": {
          "base_uri": "https://localhost:8080/"
        },
        "id": "56ChmD9iU9iS",
        "outputId": "7984731c-bda0-475d-992f-807af3d77dea"
      },
      "execution_count": 20,
      "outputs": [
        {
          "output_type": "execute_result",
          "data": {
            "text/plain": [
              "{1, 2, 3, 4}"
            ]
          },
          "metadata": {},
          "execution_count": 20
        }
      ]
    },
    {
      "cell_type": "code",
      "source": [
        "set1.remove(4)"
      ],
      "metadata": {
        "colab": {
          "base_uri": "https://localhost:8080/",
          "height": 141
        },
        "id": "ctBaO-9PVdOM",
        "outputId": "5ee40a00-2868-4f3a-f645-ae783c93e607"
      },
      "execution_count": 32,
      "outputs": [
        {
          "output_type": "error",
          "ename": "KeyError",
          "evalue": "4",
          "traceback": [
            "\u001b[0;31m---------------------------------------------------------------------------\u001b[0m",
            "\u001b[0;31mKeyError\u001b[0m                                  Traceback (most recent call last)",
            "\u001b[0;32m/tmp/ipython-input-32-450229268.py\u001b[0m in \u001b[0;36m<cell line: 0>\u001b[0;34m()\u001b[0m\n\u001b[0;32m----> 1\u001b[0;31m \u001b[0mset1\u001b[0m\u001b[0;34m.\u001b[0m\u001b[0mremove\u001b[0m\u001b[0;34m(\u001b[0m\u001b[0;36m4\u001b[0m\u001b[0;34m)\u001b[0m\u001b[0;34m\u001b[0m\u001b[0;34m\u001b[0m\u001b[0m\n\u001b[0m",
            "\u001b[0;31mKeyError\u001b[0m: 4"
          ]
        }
      ]
    },
    {
      "cell_type": "code",
      "source": [
        "set1"
      ],
      "metadata": {
        "colab": {
          "base_uri": "https://localhost:8080/"
        },
        "id": "I3igzjdDV3ai",
        "outputId": "154b9511-e790-40b8-9831-e2130cf756db"
      },
      "execution_count": 34,
      "outputs": [
        {
          "output_type": "execute_result",
          "data": {
            "text/plain": [
              "{1, 2, 3}"
            ]
          },
          "metadata": {},
          "execution_count": 34
        }
      ]
    },
    {
      "cell_type": "markdown",
      "source": [
        "19. Write a code to find the union of two sets {1,2,3} and {3,4,5}.\n"
      ],
      "metadata": {
        "id": "nIZ4iD-rV9qU"
      }
    },
    {
      "cell_type": "code",
      "source": [
        "s1 = {1,2,3}\n",
        "s2 = {3,4,5}"
      ],
      "metadata": {
        "id": "AghH6HEFWR12"
      },
      "execution_count": 1,
      "outputs": []
    },
    {
      "cell_type": "code",
      "source": [
        "s1"
      ],
      "metadata": {
        "colab": {
          "base_uri": "https://localhost:8080/"
        },
        "id": "mJgq8CZwbEHh",
        "outputId": "abd38417-981a-4274-e8a0-2755907e3091"
      },
      "execution_count": 2,
      "outputs": [
        {
          "output_type": "execute_result",
          "data": {
            "text/plain": [
              "{1, 2, 3}"
            ]
          },
          "metadata": {},
          "execution_count": 2
        }
      ]
    },
    {
      "cell_type": "code",
      "source": [
        "s2"
      ],
      "metadata": {
        "colab": {
          "base_uri": "https://localhost:8080/"
        },
        "id": "grPps6gObqKT",
        "outputId": "4b9c7e28-525f-404f-abab-970f6de270ad"
      },
      "execution_count": 3,
      "outputs": [
        {
          "output_type": "execute_result",
          "data": {
            "text/plain": [
              "{3, 4, 5}"
            ]
          },
          "metadata": {},
          "execution_count": 3
        }
      ]
    },
    {
      "cell_type": "code",
      "source": [
        "s1|s2"
      ],
      "metadata": {
        "colab": {
          "base_uri": "https://localhost:8080/"
        },
        "id": "_niWB3T5brS7",
        "outputId": "0797d997-9c80-4741-dee6-10a87977bdf1"
      },
      "execution_count": 4,
      "outputs": [
        {
          "output_type": "execute_result",
          "data": {
            "text/plain": [
              "{1, 2, 3, 4, 5}"
            ]
          },
          "metadata": {},
          "execution_count": 4
        }
      ]
    },
    {
      "cell_type": "markdown",
      "source": [
        "20. Write a code to find the intersection of two sets {1,2,3} and {2,3,4}."
      ],
      "metadata": {
        "id": "Pf6wnymIbx64"
      }
    },
    {
      "cell_type": "code",
      "source": [
        "s1 = {1,2,3}\n",
        "s2 = {2,3,4}\n"
      ],
      "metadata": {
        "id": "Vc9hBDNGcw-G"
      },
      "execution_count": 5,
      "outputs": []
    },
    {
      "cell_type": "code",
      "source": [
        "s1"
      ],
      "metadata": {
        "colab": {
          "base_uri": "https://localhost:8080/"
        },
        "id": "vlNnoLBHbxSa",
        "outputId": "784aa66e-5a03-4118-ed19-8862d4b3b221"
      },
      "execution_count": 6,
      "outputs": [
        {
          "output_type": "execute_result",
          "data": {
            "text/plain": [
              "{1, 2, 3}"
            ]
          },
          "metadata": {},
          "execution_count": 6
        }
      ]
    },
    {
      "cell_type": "code",
      "source": [
        "s2"
      ],
      "metadata": {
        "colab": {
          "base_uri": "https://localhost:8080/"
        },
        "id": "xOyTeU_rdD1Q",
        "outputId": "a92655fd-7449-4b37-e0d1-c8677ba7708b"
      },
      "execution_count": 7,
      "outputs": [
        {
          "output_type": "execute_result",
          "data": {
            "text/plain": [
              "{2, 3, 4}"
            ]
          },
          "metadata": {},
          "execution_count": 7
        }
      ]
    },
    {
      "cell_type": "code",
      "source": [
        "s1 & s2"
      ],
      "metadata": {
        "colab": {
          "base_uri": "https://localhost:8080/"
        },
        "id": "33c3g6zVdF8K",
        "outputId": "82a9d2ad-06b9-43a5-eb01-5c6f7a12d9d2"
      },
      "execution_count": 8,
      "outputs": [
        {
          "output_type": "execute_result",
          "data": {
            "text/plain": [
              "{2, 3}"
            ]
          },
          "metadata": {},
          "execution_count": 8
        }
      ]
    },
    {
      "cell_type": "markdown",
      "source": [
        "21. Write a code to create a dictionary with the keys \"name\", \"age\", and \"city\" and print it."
      ],
      "metadata": {
        "id": "ha7AvxcYdLPP"
      }
    },
    {
      "cell_type": "code",
      "source": [
        "d = {\"name\":\"Vineet verma\", \"age\":\"23\", \"city\":\"Gwalior\"}"
      ],
      "metadata": {
        "id": "2tLQw94TdpBD"
      },
      "execution_count": 9,
      "outputs": []
    },
    {
      "cell_type": "code",
      "source": [
        "d"
      ],
      "metadata": {
        "colab": {
          "base_uri": "https://localhost:8080/"
        },
        "id": "8VUwVs1Se0ny",
        "outputId": "ded9570f-c51d-44c9-a71f-b659a5257d76"
      },
      "execution_count": 10,
      "outputs": [
        {
          "output_type": "execute_result",
          "data": {
            "text/plain": [
              "{'name': 'Vineet verma', 'age': '23', 'city': 'Gwalior'}"
            ]
          },
          "metadata": {},
          "execution_count": 10
        }
      ]
    },
    {
      "cell_type": "markdown",
      "source": [
        "22. Write a code to add a new key-value pair \"country\":\"USA\" to the dictionary {'name':'Jhon','age':25}."
      ],
      "metadata": {
        "id": "kwM-FdIve4Zb"
      }
    },
    {
      "cell_type": "code",
      "source": [
        "d1 = {\"name\":\"Jhon\", \"age\":\"25\"}\n",
        "d1"
      ],
      "metadata": {
        "colab": {
          "base_uri": "https://localhost:8080/"
        },
        "id": "6mu-_2HKiNAa",
        "outputId": "966ef976-a7f3-40ee-fee9-50438b8eac14"
      },
      "execution_count": 15,
      "outputs": [
        {
          "output_type": "execute_result",
          "data": {
            "text/plain": [
              "{'name': 'Jhon', 'age': '25'}"
            ]
          },
          "metadata": {},
          "execution_count": 15
        }
      ]
    },
    {
      "cell_type": "code",
      "source": [
        "d1[\"country\"] = \"USA\""
      ],
      "metadata": {
        "id": "_C5BjvpBiiSx"
      },
      "execution_count": 16,
      "outputs": []
    },
    {
      "cell_type": "code",
      "source": [
        "d1"
      ],
      "metadata": {
        "colab": {
          "base_uri": "https://localhost:8080/"
        },
        "id": "y58QxZmCie3k",
        "outputId": "eea737ce-dad2-40fc-a71c-af5d89a38dc5"
      },
      "execution_count": 17,
      "outputs": [
        {
          "output_type": "execute_result",
          "data": {
            "text/plain": [
              "{'name': 'Jhon', 'age': '25', 'country': 'USA'}"
            ]
          },
          "metadata": {},
          "execution_count": 17
        }
      ]
    },
    {
      "cell_type": "markdown",
      "source": [
        "23. Write a code to access the value associated with the key \"name\" in the dictionary {'name':'Alice', 'age':30}"
      ],
      "metadata": {
        "id": "pebUG2cljblO"
      }
    },
    {
      "cell_type": "code",
      "source": [
        "d = {'name':'Alice', 'age':30}\n",
        "d"
      ],
      "metadata": {
        "colab": {
          "base_uri": "https://localhost:8080/"
        },
        "id": "kVEh_Q_gj82x",
        "outputId": "c1945569-e11a-4945-b79e-502591e005ab"
      },
      "execution_count": 18,
      "outputs": [
        {
          "output_type": "execute_result",
          "data": {
            "text/plain": [
              "{'name': 'Alice', 'age': 30}"
            ]
          },
          "metadata": {},
          "execution_count": 18
        }
      ]
    },
    {
      "cell_type": "code",
      "source": [
        "d.keys()"
      ],
      "metadata": {
        "colab": {
          "base_uri": "https://localhost:8080/"
        },
        "id": "6XLTFg28lPWM",
        "outputId": "6148d85b-b928-4c2b-8a16-33f11c75f039"
      },
      "execution_count": 19,
      "outputs": [
        {
          "output_type": "execute_result",
          "data": {
            "text/plain": [
              "dict_keys(['name', 'age'])"
            ]
          },
          "metadata": {},
          "execution_count": 19
        }
      ]
    },
    {
      "cell_type": "code",
      "source": [
        "d.values()"
      ],
      "metadata": {
        "colab": {
          "base_uri": "https://localhost:8080/"
        },
        "id": "oRQecsMGlRxm",
        "outputId": "486ed12c-fce3-4370-a0cb-3c8764f3cfd6"
      },
      "execution_count": 21,
      "outputs": [
        {
          "output_type": "execute_result",
          "data": {
            "text/plain": [
              "dict_values(['Alice', 30])"
            ]
          },
          "metadata": {},
          "execution_count": 21
        }
      ]
    },
    {
      "cell_type": "markdown",
      "source": [
        "24. Write a code to remove the key \"age\" from the dictionary {'name':'Bob', 'age':22, 'city':'New York'}."
      ],
      "metadata": {
        "id": "fciD0g0nlaFr"
      }
    },
    {
      "cell_type": "code",
      "source": [
        "d = {'name':'Bob', 'age':22, 'city':'New york'}\n",
        "d"
      ],
      "metadata": {
        "colab": {
          "base_uri": "https://localhost:8080/"
        },
        "id": "IVRr2PaxmEiq",
        "outputId": "4e8588ea-205d-4e82-94e6-b511e7f20db6"
      },
      "execution_count": 22,
      "outputs": [
        {
          "output_type": "execute_result",
          "data": {
            "text/plain": [
              "{'name': 'Bob', 'age': 22, 'city': 'New york'}"
            ]
          },
          "metadata": {},
          "execution_count": 22
        }
      ]
    },
    {
      "cell_type": "code",
      "source": [
        "del d[\"age\"]"
      ],
      "metadata": {
        "id": "bAruyxDPmuka"
      },
      "execution_count": 23,
      "outputs": []
    },
    {
      "cell_type": "code",
      "source": [
        "d"
      ],
      "metadata": {
        "colab": {
          "base_uri": "https://localhost:8080/"
        },
        "id": "saJ8-K9Vm3hd",
        "outputId": "20162470-bb75-469d-846f-202b8767acc2"
      },
      "execution_count": 24,
      "outputs": [
        {
          "output_type": "execute_result",
          "data": {
            "text/plain": [
              "{'name': 'Bob', 'city': 'New york'}"
            ]
          },
          "metadata": {},
          "execution_count": 24
        }
      ]
    },
    {
      "cell_type": "markdown",
      "source": [
        "25. Write a code to check if the key \"city\" exists in the dictionary {'name':'Alice', 'city':'Paris'}."
      ],
      "metadata": {
        "id": "KGpPf9Amm5pZ"
      }
    },
    {
      "cell_type": "code",
      "source": [
        "d = {'name':'Alice', 'city':'Paris'}\n",
        "d"
      ],
      "metadata": {
        "colab": {
          "base_uri": "https://localhost:8080/"
        },
        "id": "VxkmXmySnXu2",
        "outputId": "038dacfd-980f-4a9d-c51b-69bb86cca508"
      },
      "execution_count": 25,
      "outputs": [
        {
          "output_type": "execute_result",
          "data": {
            "text/plain": [
              "{'name': 'Alice', 'city': 'Paris'}"
            ]
          },
          "metadata": {},
          "execution_count": 25
        }
      ]
    },
    {
      "cell_type": "code",
      "source": [
        "if 'city' in d:\n",
        "    print(\"The key 'city' Exists in dictionart\")\n",
        "else:\n",
        "    print(\"The key 'city' does not exists in the dictionary\")"
      ],
      "metadata": {
        "colab": {
          "base_uri": "https://localhost:8080/"
        },
        "id": "mtpD6yY1qG9z",
        "outputId": "786397bd-9020-4a02-8dfb-89abc2927869"
      },
      "execution_count": 26,
      "outputs": [
        {
          "output_type": "stream",
          "name": "stdout",
          "text": [
            "The key 'city' Exists in dictionart\n"
          ]
        }
      ]
    },
    {
      "cell_type": "markdown",
      "source": [
        "26. Write a code to create a list, a tuple and a dictionary,and print them all."
      ],
      "metadata": {
        "id": "CogPx9Svqe2Z"
      }
    },
    {
      "cell_type": "code",
      "source": [
        "my_list = [\"New york\", \"Paris\", \"London\"]\n",
        "tuple1 = (\"America\", \"Chicago\", \"Amsterdam\")\n",
        "my_dict = {\"name\":\"Vineet\", \"age\":23, \"country\": \"india\"}\n"
      ],
      "metadata": {
        "id": "5L3ZLHWcsI29"
      },
      "execution_count": 27,
      "outputs": []
    },
    {
      "cell_type": "code",
      "source": [
        "my_list"
      ],
      "metadata": {
        "colab": {
          "base_uri": "https://localhost:8080/"
        },
        "id": "iCO5L9HKuGZP",
        "outputId": "4fc5db52-949a-41ed-ed70-cda95e5cf1a1"
      },
      "execution_count": 28,
      "outputs": [
        {
          "output_type": "execute_result",
          "data": {
            "text/plain": [
              "['New york', 'Paris', 'London']"
            ]
          },
          "metadata": {},
          "execution_count": 28
        }
      ]
    },
    {
      "cell_type": "code",
      "source": [
        "tuple1"
      ],
      "metadata": {
        "colab": {
          "base_uri": "https://localhost:8080/"
        },
        "id": "pwZ_K30SuIJU",
        "outputId": "b3e83bb9-fba0-4854-c0a3-e84c61e937f0"
      },
      "execution_count": 29,
      "outputs": [
        {
          "output_type": "execute_result",
          "data": {
            "text/plain": [
              "('America', 'Chicago', 'Amsterdam')"
            ]
          },
          "metadata": {},
          "execution_count": 29
        }
      ]
    },
    {
      "cell_type": "code",
      "source": [
        "my_dict"
      ],
      "metadata": {
        "colab": {
          "base_uri": "https://localhost:8080/"
        },
        "id": "C4begtGkuJ-x",
        "outputId": "eb9cffe6-5b2e-40a5-bcf9-f6c9a9b2ddcc"
      },
      "execution_count": 30,
      "outputs": [
        {
          "output_type": "execute_result",
          "data": {
            "text/plain": [
              "{'name': 'Vineet', 'age': 23, 'country': 'india'}"
            ]
          },
          "metadata": {},
          "execution_count": 30
        }
      ]
    },
    {
      "cell_type": "markdown",
      "source": [],
      "metadata": {
        "id": "CK3glJwVivbQ"
      }
    },
    {
      "cell_type": "markdown",
      "source": [
        "27. Write a code to create a list of 5 random numbers between 1 to 100, sort it in ascending order, and print the result."
      ],
      "metadata": {
        "id": "X6aCWCjduOPY"
      }
    },
    {
      "cell_type": "code",
      "source": [
        "number = [30,7,89,99,59]\n",
        "number"
      ],
      "metadata": {
        "colab": {
          "base_uri": "https://localhost:8080/"
        },
        "id": "GUlDkDE1viAN",
        "outputId": "814727d3-3441-4fdc-98e6-e1bce43c3c4e"
      },
      "execution_count": 33,
      "outputs": [
        {
          "output_type": "execute_result",
          "data": {
            "text/plain": [
              "[30, 7, 89, 99, 59]"
            ]
          },
          "metadata": {},
          "execution_count": 33
        }
      ]
    },
    {
      "cell_type": "code",
      "source": [
        "sorted(number)"
      ],
      "metadata": {
        "colab": {
          "base_uri": "https://localhost:8080/"
        },
        "id": "qLNkRUonwFTb",
        "outputId": "fcfa0ce1-9b6a-4c5f-cc81-57d16ca63608"
      },
      "execution_count": 34,
      "outputs": [
        {
          "output_type": "execute_result",
          "data": {
            "text/plain": [
              "[7, 30, 59, 89, 99]"
            ]
          },
          "metadata": {},
          "execution_count": 34
        }
      ]
    },
    {
      "cell_type": "markdown",
      "source": [
        "28.Write a code to create a list with strings and print the element at the third index."
      ],
      "metadata": {
        "id": "ow5DvlBUwhoY"
      }
    },
    {
      "cell_type": "code",
      "source": [
        "my_list = [\"apple\",\"banana\",\"cherry\",\"date\",\"cranberry\"]\n",
        "my_list"
      ],
      "metadata": {
        "colab": {
          "base_uri": "https://localhost:8080/"
        },
        "id": "JJvgO3mHxGFN",
        "outputId": "81aafba0-2883-40cf-9df8-dc706595ef19"
      },
      "execution_count": 36,
      "outputs": [
        {
          "output_type": "execute_result",
          "data": {
            "text/plain": [
              "['apple', 'banana', 'cherry', 'date', 'cranberry']"
            ]
          },
          "metadata": {},
          "execution_count": 36
        }
      ]
    },
    {
      "cell_type": "code",
      "source": [
        "my_list.index(\"date\")"
      ],
      "metadata": {
        "colab": {
          "base_uri": "https://localhost:8080/"
        },
        "id": "qYXEArWexbhw",
        "outputId": "24cee108-a453-4d90-8670-1d0d458f6844"
      },
      "execution_count": 38,
      "outputs": [
        {
          "output_type": "execute_result",
          "data": {
            "text/plain": [
              "3"
            ]
          },
          "metadata": {},
          "execution_count": 38
        }
      ]
    },
    {
      "cell_type": "markdown",
      "source": [
        "29. Write a code to combine two dictionaries into one and print the result."
      ],
      "metadata": {
        "id": "h9yv35oKxoEd"
      }
    },
    {
      "cell_type": "code",
      "source": [
        "dict1 = {'a': 1, 'b':2}\n",
        "dict2 = {'c': 3, 'd':4}"
      ],
      "metadata": {
        "id": "SrfNbvLkylfr"
      },
      "execution_count": 39,
      "outputs": []
    },
    {
      "cell_type": "code",
      "source": [
        "combined_dict = {**dict1, **dict2}\n",
        "print(\"combined dictionary:\", combined_dict)"
      ],
      "metadata": {
        "colab": {
          "base_uri": "https://localhost:8080/"
        },
        "id": "HXiYl8P7ybLD",
        "outputId": "d7fd9607-3a98-4c6f-df71-27dbf8ba7d84"
      },
      "execution_count": 40,
      "outputs": [
        {
          "output_type": "stream",
          "name": "stdout",
          "text": [
            "combined dictionary: {'a': 1, 'b': 2, 'c': 3, 'd': 4}\n"
          ]
        }
      ]
    },
    {
      "cell_type": "code",
      "source": [],
      "metadata": {
        "id": "SXkTmLOU56PZ"
      },
      "execution_count": null,
      "outputs": []
    },
    {
      "cell_type": "markdown",
      "source": [],
      "metadata": {
        "id": "XxClSVZoFLd3"
      }
    },
    {
      "cell_type": "markdown",
      "source": [],
      "metadata": {
        "id": "IqRZi9oKAsWk"
      }
    },
    {
      "cell_type": "markdown",
      "source": [],
      "metadata": {
        "id": "X7ByJ4HucAv5"
      }
    },
    {
      "cell_type": "markdown",
      "source": [],
      "metadata": {
        "id": "xFeV7TP_bn6l"
      }
    },
    {
      "cell_type": "markdown",
      "source": [],
      "metadata": {
        "id": "klpe1Tu4bfQD"
      }
    },
    {
      "cell_type": "code",
      "source": [],
      "metadata": {
        "id": "-4KP-oE0be8h"
      },
      "execution_count": null,
      "outputs": []
    },
    {
      "cell_type": "markdown",
      "source": [],
      "metadata": {
        "id": "jB-jnDJpVKMV"
      }
    },
    {
      "cell_type": "markdown",
      "source": [],
      "metadata": {
        "id": "GpjLyqPabd6B"
      }
    },
    {
      "cell_type": "markdown",
      "source": [],
      "metadata": {
        "id": "Tn6exGC1VJ0-"
      }
    },
    {
      "cell_type": "markdown",
      "source": [],
      "metadata": {
        "id": "UKWA_YzkVG01"
      }
    }
  ]
}